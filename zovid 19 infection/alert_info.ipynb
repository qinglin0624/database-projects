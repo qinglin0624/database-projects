{
 "cells": [
  {
   "cell_type": "code",
   "execution_count": 34,
   "metadata": {},
   "outputs": [],
   "source": [
    "import math\n",
    "import pandas as pd\n",
    "import numpy as np\n",
    "import matplotlib.pyplot as plt"
   ]
  },
  {
   "cell_type": "code",
   "execution_count": 35,
   "metadata": {},
   "outputs": [
    {
     "data": {
      "text/plain": [
       "Name                 0\n",
       "id_Number            0\n",
       "row_Number           0\n",
       "seat_Number          0\n",
       "auditorium_Number    0\n",
       "test_result          0\n",
       "score                0\n",
       "dtype: int64"
      ]
     },
     "execution_count": 35,
     "metadata": {},
     "output_type": "execute_result"
    }
   ],
   "source": [
    "audience = pd.read_csv('audiences_info.csv')\n",
    "audience.fillna(value=False, inplace=True)"
   ]
  },
  {
   "cell_type": "markdown",
   "metadata": {},
   "source": [
    "## functions for Q1"
   ]
  },
  {
   "cell_type": "code",
   "execution_count": 37,
   "metadata": {},
   "outputs": [],
   "source": [
    "result = {i:{'initial':None, 'infect_time':None, 'positive': None, 'score':None, 'name':None} for i in range(1,7)}"
   ]
  },
  {
   "cell_type": "code",
   "execution_count": 38,
   "metadata": {},
   "outputs": [],
   "source": [
    "def get_aud_info(aud_num):\n",
    "    info = audience[audience['auditorium_Number']==aud_num]\n",
    "    row = max(info['row_Number'])\n",
    "    seat = max(info['seat_Number'])\n",
    "    aud = np.ones((row,seat))*(-1)\n",
    "    score = np.ones((row,seat))*(-1)\n",
    "    infect = np.ones((row,seat))*(-1)\n",
    "    name = [[None for j in range(seat)] for i in range(row)]\n",
    "    positive = []\n",
    "    \n",
    "    infected = info.loc[info['test_result']==True,['row_Number','seat_Number']]\n",
    "    healthy = info.loc[info['test_result']==False,['row_Number','seat_Number']]\n",
    "    \n",
    "    for r,c in infected.values:\n",
    "        aud[r-1,c-1] = 1\n",
    "        infect[r-1,c-1] = 0\n",
    "    for r,c in healthy.values:\n",
    "        aud[r-1,c-1] = 0\n",
    "    for n, ID, r, c, s in info.loc[:,['Name','id_Number','row_Number','seat_Number','score']].values:\n",
    "        score[r-1,c-1] = math.floor(s * 0.06)\n",
    "        name[r-1][c-1] = (n,ID)\n",
    "    \n",
    "    result[aud_num]['initial'] = aud\n",
    "    result[aud_num]['infect_time'] = infect\n",
    "    result[aud_num]['positive'] = infected.values-1\n",
    "    result[aud_num]['score'] = score\n",
    "    result[aud_num]['name'] = name"
   ]
  },
  {
   "cell_type": "code",
   "execution_count": 39,
   "metadata": {},
   "outputs": [],
   "source": [
    "def get_infect_time(aud_num):\n",
    "    \n",
    "    aud = result[aud_num]['initial']\n",
    "    infect = result[aud_num]['infect_time']\n",
    "    score = result[aud_num]['score']\n",
    "    row, seat = aud.shape\n",
    "    \n",
    "    for start in result[aud_num]['positive']:\n",
    "        queue = [start]\n",
    "        while len(queue) != 0:\n",
    "            r,c = queue[0]\n",
    "            queue = queue[1:]\n",
    "            for n_r, n_c in [(r+1,c),(r-1,c),(r,c+1),(r,c-1)]:\n",
    "                if (0 <= n_r < row) and ( 0 <= n_c < seat):\n",
    "                    if aud[n_r, n_c]>=0: # if there is people there\n",
    "                        # not infected yet or could have been infected earlier\n",
    "                        if (infect[n_r, n_c]<0) or (infect[n_r, n_c] > infect[r,c] + score[n_r, n_c]):\n",
    "                            infect[n_r, n_c] = infect[r,c] + score[n_r, n_c]\n",
    "                            # which means other people could have been infected earlier as well\n",
    "                            queue.append((n_r, n_c))"
   ]
  },
  {
   "cell_type": "code",
   "execution_count": 40,
   "metadata": {},
   "outputs": [
    {
     "name": "stdout",
     "output_type": "stream",
     "text": [
      "1 (50, 68)\n",
      "number of infected people: 186\n",
      "number of healthy people: 2376\n"
     ]
    },
    {
     "data": {
      "text/plain": [
       "42.0"
      ]
     },
     "execution_count": 40,
     "metadata": {},
     "output_type": "execute_result"
    }
   ],
   "source": [
    "get_aud_info(1)\n",
    "get_infect_time(1)"
   ]
  },
  {
   "cell_type": "code",
   "execution_count": 41,
   "metadata": {},
   "outputs": [
    {
     "name": "stdout",
     "output_type": "stream",
     "text": [
      "2 (59, 66)\n",
      "number of infected people: 245\n",
      "number of healthy people: 2745\n"
     ]
    },
    {
     "data": {
      "text/plain": [
       "43.0"
      ]
     },
     "execution_count": 41,
     "metadata": {},
     "output_type": "execute_result"
    }
   ],
   "source": [
    "get_aud_info(2)\n",
    "get_infect_time(2)"
   ]
  },
  {
   "cell_type": "code",
   "execution_count": 42,
   "metadata": {},
   "outputs": [
    {
     "name": "stdout",
     "output_type": "stream",
     "text": [
      "3 (39, 47)\n",
      "number of infected people: 118\n",
      "number of healthy people: 1276\n"
     ]
    },
    {
     "data": {
      "text/plain": [
       "34.0"
      ]
     },
     "execution_count": 42,
     "metadata": {},
     "output_type": "execute_result"
    }
   ],
   "source": [
    "get_aud_info(3)\n",
    "get_infect_time(3)"
   ]
  },
  {
   "cell_type": "code",
   "execution_count": 43,
   "metadata": {},
   "outputs": [
    {
     "name": "stdout",
     "output_type": "stream",
     "text": [
      "4 (68, 68)\n",
      "number of infected people: 286\n",
      "number of healthy people: 3206\n"
     ]
    },
    {
     "data": {
      "text/plain": [
       "38.0"
      ]
     },
     "execution_count": 43,
     "metadata": {},
     "output_type": "execute_result"
    }
   ],
   "source": [
    "get_aud_info(4)\n",
    "get_infect_time(4)"
   ]
  },
  {
   "cell_type": "code",
   "execution_count": 44,
   "metadata": {},
   "outputs": [
    {
     "name": "stdout",
     "output_type": "stream",
     "text": [
      "5 (46, 62)\n",
      "number of infected people: 221\n",
      "number of healthy people: 1933\n"
     ]
    },
    {
     "data": {
      "text/plain": [
       "39.0"
      ]
     },
     "execution_count": 44,
     "metadata": {},
     "output_type": "execute_result"
    }
   ],
   "source": [
    "get_aud_info(5)\n",
    "get_infect_time(5)"
   ]
  },
  {
   "cell_type": "code",
   "execution_count": 45,
   "metadata": {},
   "outputs": [
    {
     "name": "stdout",
     "output_type": "stream",
     "text": [
      "6 (43, 43)\n",
      "number of infected people: 113\n",
      "number of healthy people: 1301\n"
     ]
    },
    {
     "data": {
      "text/plain": [
       "49.0"
      ]
     },
     "execution_count": 45,
     "metadata": {},
     "output_type": "execute_result"
    }
   ],
   "source": [
    "get_aud_info(6)\n",
    "get_infect_time(6)"
   ]
  },
  {
   "cell_type": "markdown",
   "metadata": {},
   "source": [
    "# Question 2"
   ]
  },
  {
   "cell_type": "code",
   "execution_count": 46,
   "metadata": {},
   "outputs": [
    {
     "data": {
      "text/html": [
       "<div>\n",
       "<style scoped>\n",
       "    .dataframe tbody tr th:only-of-type {\n",
       "        vertical-align: middle;\n",
       "    }\n",
       "\n",
       "    .dataframe tbody tr th {\n",
       "        vertical-align: top;\n",
       "    }\n",
       "\n",
       "    .dataframe thead th {\n",
       "        text-align: right;\n",
       "    }\n",
       "</style>\n",
       "<table border=\"1\" class=\"dataframe\">\n",
       "  <thead>\n",
       "    <tr style=\"text-align: right;\">\n",
       "      <th></th>\n",
       "      <th>Name</th>\n",
       "      <th>id_Number</th>\n",
       "      <th>ExposureTime</th>\n",
       "    </tr>\n",
       "  </thead>\n",
       "  <tbody>\n",
       "    <tr>\n",
       "      <th>12228</th>\n",
       "      <td>Steven Henley</td>\n",
       "      <td>91902201809274958</td>\n",
       "      <td>49.0</td>\n",
       "    </tr>\n",
       "    <tr>\n",
       "      <th>12256</th>\n",
       "      <td>Erin Serrell</td>\n",
       "      <td>10707200203039606</td>\n",
       "      <td>45.0</td>\n",
       "    </tr>\n",
       "    <tr>\n",
       "      <th>4459</th>\n",
       "      <td>David Ferber</td>\n",
       "      <td>79461195304211842</td>\n",
       "      <td>43.0</td>\n",
       "    </tr>\n",
       "    <tr>\n",
       "      <th>1973</th>\n",
       "      <td>Paul Abbott</td>\n",
       "      <td>32979197407141829</td>\n",
       "      <td>42.0</td>\n",
       "    </tr>\n",
       "    <tr>\n",
       "      <th>13</th>\n",
       "      <td>Ronald Lamb</td>\n",
       "      <td>11939198412054942</td>\n",
       "      <td>42.0</td>\n",
       "    </tr>\n",
       "    <tr>\n",
       "      <th>12255</th>\n",
       "      <td>Jacqueline Key</td>\n",
       "      <td>11606201502206319</td>\n",
       "      <td>41.0</td>\n",
       "    </tr>\n",
       "    <tr>\n",
       "      <th>2381</th>\n",
       "      <td>James Archuleta</td>\n",
       "      <td>78123198703168356</td>\n",
       "      <td>41.0</td>\n",
       "    </tr>\n",
       "    <tr>\n",
       "      <th>280</th>\n",
       "      <td>Nancy Avella</td>\n",
       "      <td>34124193211171765</td>\n",
       "      <td>41.0</td>\n",
       "    </tr>\n",
       "    <tr>\n",
       "      <th>2376</th>\n",
       "      <td>Stacy Wang</td>\n",
       "      <td>22460201307164487</td>\n",
       "      <td>41.0</td>\n",
       "    </tr>\n",
       "    <tr>\n",
       "      <th>12286</th>\n",
       "      <td>Brandon Allison</td>\n",
       "      <td>79418195607227075</td>\n",
       "      <td>41.0</td>\n",
       "    </tr>\n",
       "    <tr>\n",
       "      <th>2330</th>\n",
       "      <td>Lucinda Whitley</td>\n",
       "      <td>44350199411086116</td>\n",
       "      <td>40.0</td>\n",
       "    </tr>\n",
       "    <tr>\n",
       "      <th>3735</th>\n",
       "      <td>Jerry Bevens</td>\n",
       "      <td>62050199603167879</td>\n",
       "      <td>40.0</td>\n",
       "    </tr>\n",
       "    <tr>\n",
       "      <th>1949</th>\n",
       "      <td>Herman Barnwell</td>\n",
       "      <td>40445196912317834</td>\n",
       "      <td>40.0</td>\n",
       "    </tr>\n",
       "    <tr>\n",
       "      <th>587</th>\n",
       "      <td>Robin Kinney</td>\n",
       "      <td>19137197401134294</td>\n",
       "      <td>39.0</td>\n",
       "    </tr>\n",
       "    <tr>\n",
       "      <th>4417</th>\n",
       "      <td>James Smith</td>\n",
       "      <td>59864194705073338</td>\n",
       "      <td>39.0</td>\n",
       "    </tr>\n",
       "  </tbody>\n",
       "</table>\n",
       "</div>"
      ],
      "text/plain": [
       "                  Name          id_Number  ExposureTime\n",
       "12228    Steven Henley  91902201809274958          49.0\n",
       "12256     Erin Serrell  10707200203039606          45.0\n",
       "4459      David Ferber  79461195304211842          43.0\n",
       "1973       Paul Abbott  32979197407141829          42.0\n",
       "13         Ronald Lamb  11939198412054942          42.0\n",
       "12255   Jacqueline Key  11606201502206319          41.0\n",
       "2381   James Archuleta  78123198703168356          41.0\n",
       "280       Nancy Avella  34124193211171765          41.0\n",
       "2376        Stacy Wang  22460201307164487          41.0\n",
       "12286  Brandon Allison  79418195607227075          41.0\n",
       "2330   Lucinda Whitley  44350199411086116          40.0\n",
       "3735      Jerry Bevens  62050199603167879          40.0\n",
       "1949   Herman Barnwell  40445196912317834          40.0\n",
       "587       Robin Kinney  19137197401134294          39.0\n",
       "4417       James Smith  59864194705073338          39.0"
      ]
     },
     "execution_count": 46,
     "metadata": {},
     "output_type": "execute_result"
    }
   ],
   "source": [
    "df = pd.DataFrame(columns=('Name', 'id_Number', 'ExposureTime'))\n",
    "idx=0\n",
    "for a in range(1,7):\n",
    "    aud = result[a]['initial']\n",
    "    name = result[a]['name']\n",
    "    infect = result[a]['infect_time']\n",
    "    \n",
    "    for i in range(len(aud)):\n",
    "        for j in range(len(aud[0])):\n",
    "            if infect[i,j ] > 0:\n",
    "                df.loc[idx] = [name[i][j][0], name[i][j][1], infect[i,j]]\n",
    "                idx += 1\n",
    "\n",
    "\n",
    "df.sort_values('ExposureTime',ascending=False,inplace=True)\n",
    "df.head(n=15)"
   ]
  },
  {
   "cell_type": "code",
   "execution_count": 47,
   "metadata": {},
   "outputs": [],
   "source": [
    "df.to_csv('alert_info.csv',index=None)"
   ]
  }
 ],
 "metadata": {
  "kernelspec": {
   "display_name": "Python 3",
   "language": "python",
   "name": "python3"
  },
  "language_info": {
   "codemirror_mode": {
    "name": "ipython",
    "version": 3
   },
   "file_extension": ".py",
   "mimetype": "text/x-python",
   "name": "python",
   "nbconvert_exporter": "python",
   "pygments_lexer": "ipython3",
   "version": "3.7.1"
  }
 },
 "nbformat": 4,
 "nbformat_minor": 2
}
